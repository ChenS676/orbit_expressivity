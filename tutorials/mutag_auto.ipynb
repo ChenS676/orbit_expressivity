{
 "cells": [
  {
   "cell_type": "code",
   "execution_count": null,
   "id": "3c3e28a5",
   "metadata": {},
   "outputs": [],
   "source": [
    "import os\n",
    "import glob\n",
    "import sys\n",
    "sys.path.append('/hkfs/work/workspace/scratch/cc7738-automorphism/orbit-gnn/')  # Replace with the actual path\n",
    "\n",
    "import networkx as nx\n",
    "import pynauty\n",
    "import matplotlib.pyplot as plt\n",
    "from graph_theory import compute_orbits\n",
    "from plotting import plot_labeled_graph\n",
    "from torch_geometric.datasets import TUDataset\n",
    "import torch\n",
    "from torch_geometric.utils import to_networkx\n",
    "from typing import Tuple, List, Optional\n",
    "import networkx as nx\n",
    "from torch_geometric.datasets import TUDataset\n",
    "import matplotlib.pyplot as plt\n",
    "from datasets import nx_molecule_dataset, pyg_max_orbit_dataset_from_nx, alchemy_max_orbit_dataset\n",
    "import pynauty\n",
    "\n",
    "# Specify the folder path\n",
    "folder_path = '/hkfs/work/workspace/scratch/cc7738-automorphism/orbit-gnn'\n"
   ]
  },
  {
   "cell_type": "code",
   "execution_count": null,
   "id": "433dbd09",
   "metadata": {},
   "outputs": [],
   "source": [
    "# Use glob to get all the PDF files in the folder\n",
    "pdf_files = glob.glob(os.path.join(folder_path, '*.pdf'))\n",
    "\n",
    "# Loop through all the files and delete them\n",
    "for pdf_file in pdf_files:\n",
    "    try:\n",
    "        os.remove(pdf_file)\n",
    "        print(f\"Deleted: {pdf_file}\")\n",
    "    except Exception as e:\n",
    "        print(f\"Error deleting {pdf_file}: {e}\")"
   ]
  },
  {
   "cell_type": "code",
   "execution_count": null,
   "id": "32babb78",
   "metadata": {},
   "outputs": [],
   "source": [
    "def automorphism(graph: nx.Graph, seed=42):\n",
    "    node_mapping = {node: idx for idx, node in enumerate(graph.nodes())}\n",
    "    \n",
    "    adj_dict = {\n",
    "        node_mapping[node]: [node_mapping[neighbor] for neighbor in graph.neighbors(node)]\n",
    "        for node in graph.nodes()\n",
    "    }\n",
    "    n = len(graph.nodes())\n",
    "    G_pynauty = pynauty.Graph(number_of_vertices=n, \n",
    "                              adjacency_dict=adj_dict, \n",
    "                              directed=False)\n",
    "    _, _, _, orbits, num_orbit = pynauty.autgrp(G_pynauty)\n",
    "    new_label_mapping = {node: idx for idx, node in enumerate(set(orbits))}\n",
    "    orbits = [new_label_mapping[orbit] for orbit in orbits]\n",
    "    \n",
    "    return orbits, num_orbit\n",
    "\n"
   ]
  },
  {
   "cell_type": "code",
   "execution_count": null,
   "id": "1e8e7aab",
   "metadata": {},
   "outputs": [],
   "source": [
    "# Load the MUTAG dataset\n",
    "dataset = TUDataset(root='/tmp/MUTAG', name='MUTAG')\n",
    "N = 4\n",
    "graph = nx.grid_2d_graph(N, N)\n",
    "orbits, num_orbits = automorphism(graph)\n",
    "\n",
    "for i in range(len(dataset)):\n",
    "\n",
    "    graph = dataset[i]\n",
    "    nx_graph = to_networkx(graph)\n",
    "    orbits, num_orbits = automorphism(nx_graph)\n",
    "    n = len(nx_graph.nodes())\n",
    "    node_colors = [orbits[node] for node in range(n)]\n",
    "    print(\"Orbits:\", orbits, \"Number of orbits:\", num_orbits)\n",
    "    custom_labels = {}\n",
    "    for orbit_idx, orbit in enumerate(orbits):\n",
    "            custom_labels[orbit_idx] = f\"{orbits[orbit_idx]}\"  # Label all nodes in the orbit with its index\n",
    "    pos = nx.spring_layout(nx_graph, seed=42)\n",
    "    plt.figure(figsize=(8, 6))\n",
    "    # use different color for each orbit\n",
    "    nx.draw(\n",
    "        nx_graph,\n",
    "        pos,\n",
    "        with_labels=True,\n",
    "        labels=custom_labels,\n",
    "        node_color=node_colors,\n",
    "        cmap='tab20b',\n",
    "        node_size=500,\n",
    "        edge_color=\"gray\",\n",
    "        edgecolors='black'\n",
    "    )\n",
    "    plt.show()\n",
    "    plt.close()\n",
    "\n"
   ]
  },
  {
   "cell_type": "code",
   "execution_count": null,
   "id": "b6e3c184",
   "metadata": {},
   "outputs": [],
   "source": [
    "for max_orbit_alchemy in [7, 8, 9, 10]:\n",
    "    shuffle_targets_in_max_orbit = 1\n",
    "    alchemy_nx, num_node_classes = nx_molecule_dataset('alchemy_full')\n",
    "    if max_orbit_alchemy >= 2:\n",
    "        orbit_alchemy_nx = alchemy_max_orbit_dataset(\n",
    "            dataset=alchemy_nx,\n",
    "            num_node_classes=num_node_classes,\n",
    "            extended_dataset_size=1000,  # TODO: make arg\n",
    "            max_orbit=max_orbit_alchemy,\n",
    "            shuffle_targets_within_orbits=shuffle_targets_in_max_orbit,\n",
    "        )\n",
    "        orbit_alchemy_pyg = pyg_max_orbit_dataset_from_nx(orbit_alchemy_nx)\n",
    "        dataset = orbit_alchemy_pyg\n",
    "        torch.save(dataset, f'alchemy_max_orbit_{max_orbit_alchemy}.pt')\n"
   ]
  }
 ],
 "metadata": {
  "kernelspec": {
   "display_name": "EAsF",
   "language": "python",
   "name": "python3"
  },
  "language_info": {
   "name": "python",
   "version": "3.10.16"
  }
 },
 "nbformat": 4,
 "nbformat_minor": 5
}
